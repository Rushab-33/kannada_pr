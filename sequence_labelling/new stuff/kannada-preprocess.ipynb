{
 "cells": [
  {
   "cell_type": "code",
   "execution_count": null,
   "id": "a31e9672",
   "metadata": {},
   "outputs": [],
   "source": [
    "# def replace_numbers_with_kannada(text, mapping):\n",
    "#     result = ''\n",
    "#     for char in text:\n",
    "#         if char.isdigit():\n",
    "#             result += mapping[char]\n",
    "#         else:\n",
    "#             result += char\n",
    "#     return result\n",
    "\n",
    "# # Provided mapping\n",
    "# kannada_dict_num = {\n",
    "#     \"0\": \"\\u0CE6\",\n",
    "#     \"1\": \"\\u0CE7\",\n",
    "#     \"2\": \"\\u0CE8\",\n",
    "#     \"3\": \"\\u0CE9\",\n",
    "#     \"4\": \"\\u0CEA\",\n",
    "#     \"5\": \"\\u0CEB\",\n",
    "#     \"6\": \"\\u0CEC\",\n",
    "#     \"7\": \"\\u0CED\",\n",
    "#     \"8\": \"\\u0CEE\",\n",
    "#     \"9\": \"\\u0CEF\"\n",
    "# }\n",
    "\n",
    "# # Test text\n",
    "# test_text = \"This is a test with numbers 12345.\"\n",
    "\n",
    "# # Replace numbers with Kannada Unicode codes\n",
    "# result_text = replace_numbers_with_kannada(test_text, kannada_dict_num)\n",
    "\n",
    "# # Print the result\n",
    "# print(result_text)"
   ]
  },
  {
   "cell_type": "code",
   "execution_count": null,
   "id": "initial_id",
   "metadata": {
    "collapsed": true
   },
   "outputs": [],
   "source": [
    "# import requests\n",
    "# \n",
    "# url = \"https://objectstore.e2enetworks.net/ai4b-public-nlu-nlg/v1-indiccorp/kn.txt\"\n",
    "# def download_file(url):\n",
    "#     local_filename = \"kannada.txt\"\n",
    "#     with requests.get(url, stream=True) as r:\n",
    "#         r.raise_for_status()\n",
    "#         with open(local_filename, \"wb\") as f:\n",
    "#             for chunk in r.iter_content(chunk_size=8192):\n",
    "#                 if chunk:\n",
    "#                     f.write(chunk)\n",
    "#     return local_filename\n",
    "# \n",
    "# # Replace the URL below with your desired file URL\n",
    "# file_url = url\n",
    "# downloaded_file = download_file(file_url)\n",
    "# print(f\"File '{downloaded_file}' downloaded successfully!\")\n",
    "\n"
   ]
  },
  {
   "cell_type": "code",
   "execution_count": null,
   "id": "66d7ac2993b846",
   "metadata": {
    "ExecuteTime": {
     "end_time": "2024-02-20T20:01:17.275183300Z",
     "start_time": "2024-02-20T20:00:46.304638800Z"
    }
   },
   "outputs": [],
   "source": [
    "import requests\n",
    "\n",
    "\n",
    "#make new text file with 1 million liness from the original file\n",
    "new_file_name = \"kannada_1m.txt\"\n",
    "def make_new_file(file_name, new_file_name, num_lines):\n",
    "    with open(file_name, \"rb\") as f:\n",
    "        lines = f.readlines()\n",
    "    import os\n",
    "    if os.path.exists(new_file_name):\n",
    "        mode = \"ab\"\n",
    "    else:\n",
    "        mode = \"wb\"\n",
    "    with open(new_file_name, mode) as f:\n",
    "        for i in range(num_lines):\n",
    "            f.write(lines[i])\n",
    "    print(f\"File '{new_file_name}' created successfully!\")\n",
    "\n",
    "make_new_file(\"kannada.txt\", new_file_name, 1_000_000)\n"
   ]
  },
  {
   "cell_type": "markdown",
   "id": "14236c27",
   "metadata": {},
   "source": []
  },
  {
   "cell_type": "code",
   "execution_count": null,
   "id": "25ac15d2bb985470",
   "metadata": {
    "ExecuteTime": {
     "end_time": "2024-02-20T21:09:36.515488100Z",
     "start_time": "2024-02-20T21:09:36.214926700Z"
    },
    "collapsed": false
   },
   "outputs": [],
   "source": [
    "#count the number of lines in the file\n",
    "with open(\"kannada_1m_clean1.txt\", \"rb\") as f:\n",
    "    lines = f.readlines()\n",
    "    print(f\"Number of lines in the file: {len(lines)}\")"
   ]
  },
  {
   "cell_type": "code",
   "execution_count": null,
   "id": "2c8e63d6",
   "metadata": {},
   "outputs": [],
   "source": [
    "import re\n",
    "def has_english(text):\n",
    "    # Regular expression to match English characters\n",
    "    pattern = re.compile(r'[a-zA-Z]')\n",
    "    #if there is english character return ''\n",
    "    if re.search(pattern,text):\n",
    "        return ''\n",
    "    else: \n",
    "        return text\n",
    "\n",
    "\n",
    "has_english(\"ಹೊಸ ತಂಡ ಕಾಲದಲ್ಲಿ ಮಾತ್ರ 2013/2014 ರಲ್ಲಿ ಉದ್ದೇಶಿಸಲಾಗಿದ್ದ ಫಾರ್ ಸಂಪೂರ್ಣ ಬಲವನ್ನು ಆರಂಭವಾಗಲಿ.\")"
   ]
  },
  {
   "cell_type": "code",
   "execution_count": null,
   "id": "34b26f974268e3bb",
   "metadata": {
    "ExecuteTime": {
     "end_time": "2024-02-20T21:04:22.310998800Z",
     "start_time": "2024-02-20T21:03:55.682122100Z"
    },
    "collapsed": false
   },
   "outputs": [],
   "source": [
    "import re\n",
    "import os\n",
    "import sys\n",
    "\n",
    "file_path = \"kannada_1m_clean1.txt\"\n",
    "# if os.path.exists(file_path):\n",
    "#     print(f\"File '{file_path} already exists.\")\n",
    "#     sys.exit()\n",
    "# \n",
    "count_english_numbers = 0\n",
    "def has_english(text):\n",
    "    # Regular expression to match English characters\n",
    "    pattern = re.compile(r'[a-zA-Z]')\n",
    "    #if there is english character return ''\n",
    "    if re.search(pattern,text):\n",
    "        global count_english_numbers\n",
    "        count_english_numbers +=1\n",
    "        return ''\n",
    "    else: \n",
    "        return text\n",
    "\n",
    "def has_numbers(text):\n",
    "    # Regular expression to match numbers\n",
    "    pattern = re.compile(r'[0-9]')\n",
    "    if re.search(pattern,text):\n",
    "        global count_english_numbers\n",
    "        count_english_numbers +=1\n",
    "        return ''\n",
    "    else: \n",
    "        return text\n",
    "\n",
    "def remove_text_inside_parentheses(text):\n",
    "    # Regular expression to match text inside parentheses\n",
    "    pattern = re.compile(r'\\([^)]*\\)')\n",
    "    return  re.sub(pattern, '', text)\n",
    "\n",
    "def special_characters(text):\n",
    "    # Regular expression to match special characters excluding periods\n",
    "    pattern = re.compile(r'[\\[/(){}\\]()|@#$%^&*_\\-=+`~;:\\'\\\"\"\\'<>]')\n",
    "    return re.sub(pattern, '', text)\n",
    "\n",
    "def remove_consecutive_spaces(text):\n",
    "    # Regular expression to match consecutive spaces excluding newline\n",
    "    pattern = re.compile(r' {2,}')\n",
    "    return re.sub(pattern, ' ', text)\n",
    "\n",
    "def remove_unicode_chars(text):\n",
    "    # Regular expression to match U+200B, U+200C, U+00AD, U+00A0\n",
    "    pattern = re.compile(r'[\\u200B\\u200C\\u00AD\\u00A0\\u2026\\u201d\\u2018\\u2019]')\n",
    "    return re.sub(pattern, '', text)\n",
    "def remove_space_before_punctuation(text):\n",
    "    # Regular expression to match space before punctuation\n",
    "    pattern = re.compile(r'\\s+([.,!?-])')\n",
    "    return  re.sub(pattern, r'\\1', text)\n",
    "def remove_spaces_in_beginning(text):\n",
    "    # Regular expression to match extra spaces\n",
    "    pattern = re.compile(r'^\\s+')\n",
    "    return  re.sub(pattern, '', text)\n",
    "def remove_continuous_dot(text):\n",
    "    # Regular expression to match continuous dots\n",
    "    pattern = re.compile(r'\\.{2,}')\n",
    "    return  re.sub(pattern, '.', text)\n",
    "def remove_continuous_comma(text):\n",
    "    # Regular expression to match continuous commas\n",
    "    pattern = re.compile(r',{2,}')\n",
    "    return  re.sub(pattern, ',', text)\n",
    "def remove_continuous_exclamation(text):\n",
    "    # Regular expression to match continuous exclamation marks\n",
    "    pattern = re.compile(r'!{2,}')\n",
    "    return  re.sub(pattern, '!', text)\n",
    "def remove_continuous_question(text):\n",
    "    # Regular expression to match continuous question marks\n",
    "    pattern = re.compile(r'\\?{2,}')\n",
    "    return  re.sub(pattern, '?', text)\n",
    "\n",
    "input_file = r'C:\\Users\\rusha\\projects\\kannada_punct\\kannada_1m.txt'\n",
    "output_file =  file_path\n",
    "min_line_size = 40\n",
    "count = 0\n",
    "with open(input_file, 'r', encoding='utf-8') as file, \\\n",
    "        open(output_file, 'w', encoding='utf-8') as output:\n",
    "    for line_num, line in enumerate(file, start=1):\n",
    "        line = has_english(line)\n",
    "        if line == '':\n",
    "            continue\n",
    "        line = has_numbers(line)\n",
    "        if line == '':\n",
    "            continue\n",
    "        line = remove_text_inside_parentheses(line)\n",
    "        line = special_characters(line)\n",
    "        line = remove_spaces_in_beginning(line)\n",
    "        line = remove_unicode_chars(line)\n",
    "        line = remove_space_before_punctuation(line)\n",
    "        line = remove_continuous_dot(line)\n",
    "        line = remove_continuous_comma(line)\n",
    "        line = remove_continuous_exclamation(line)\n",
    "        line = remove_continuous_question(line)\n",
    "        line = remove_consecutive_spaces(line)\n",
    "        \n",
    "        if len(line) < min_line_size:\n",
    "            count +=1\n",
    "            continue\n",
    "        \n",
    "        output.write(line)\n",
    "\n",
    "print(f\"File '{output_file}' created successfully!\")\n",
    "print(f\"Number of lines removed: {count}\")\n",
    "print(f\"Number of lines removed with english and numbers : {count_english_numbers}\")\n",
    "\n"
   ]
  },
  {
   "cell_type": "code",
   "execution_count": 3,
   "id": "514a024cee25b7ae",
   "metadata": {
    "ExecuteTime": {
     "end_time": "2024-02-20T08:21:57.030047300Z",
     "start_time": "2024-02-20T08:21:57.027606600Z"
    },
    "collapsed": false
   },
   "outputs": [
    {
     "name": "stdout",
     "output_type": "stream",
     "text": [
      "[WinError 2] The system cannot find the file specified: 'en_itn'\n",
      "c:\\Users\\rusha\\projects\\kannada_punct\\sequence_labelling\\new stuff\n"
     ]
    }
   ],
   "source": [
    "%cd en_itn"
   ]
  },
  {
   "cell_type": "code",
   "execution_count": null,
   "id": "2259e2203d582ded",
   "metadata": {
    "ExecuteTime": {
     "end_time": "2024-02-20T08:22:47.599852300Z",
     "start_time": "2024-02-20T08:22:47.599852300Z"
    },
    "collapsed": false
   },
   "outputs": [],
   "source": [
    "%pwd"
   ]
  }
 ],
 "metadata": {
  "kernelspec": {
   "display_name": "Python 3 (ipykernel)",
   "language": "python",
   "name": "python3"
  },
  "language_info": {
   "codemirror_mode": {
    "name": "ipython",
    "version": 3
   },
   "file_extension": ".py",
   "mimetype": "text/x-python",
   "name": "python",
   "nbconvert_exporter": "python",
   "pygments_lexer": "ipython3",
   "version": "3.11.1"
  }
 },
 "nbformat": 4,
 "nbformat_minor": 5
}
