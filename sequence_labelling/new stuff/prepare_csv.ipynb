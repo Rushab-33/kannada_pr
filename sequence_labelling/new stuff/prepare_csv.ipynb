{
 "cells": [
  {
   "cell_type": "code",
   "execution_count": 1,
   "metadata": {},
   "outputs": [],
   "source": [
    "## usage -> python prepare_csv.py path/to/inp/file/containing/sentences path/to/output/csv\n",
    "import pandas\n",
    "import pandas as pd\n",
    "from tqdm import tqdm\n",
    "import timeit\n",
    "from joblib import Parallel, delayed\n",
    "\n",
    "inppath = r'C:\\Users\\rusha\\projects\\kannada_punct\\sequence_labelling\\new stuff\\kannada_1m_clean1.txt'\n",
    "outpath = r'C:\\Users\\rusha\\projects\\kannada_punct\\sequence_labelling\\new stuff\\kannada_1m_cleaned.csv'\n"
   ]
  },
  {
   "cell_type": "code",
   "execution_count": null,
   "metadata": {},
   "outputs": [],
   "source": [
    "with open(inppath, 'r', encoding = 'utf-8') as file:\n",
    "    run = True\n",
    "    data = file.readlines()\n",
    "    data = [i.strip() for i in data]\n",
    "    print(type(data))\n",
    "    if run == True:\n",
    "        print(data[:5])\n",
    "        run = False\n",
    "        data = pd.DataFrame(data, columns=['sentence'])\n",
    "        data.to_csv(inppath[:-3] +'csv', index = False)\n",
    "\n"
   ]
  },
  {
   "cell_type": "code",
   "execution_count": 8,
   "metadata": {},
   "outputs": [],
   "source": [
    "df = pd.read_csv(inppath[:-3]+'csv',header = 0)\n",
    "line_list = df['sentence'].to_list()\n",
    "\n",
    "\n",
    "def fix_for_first_ch_punc(line):\n",
    "    if line and (line[0] in ['.', ',', '?']):\n",
    "        line = line[1:]\n",
    "        return ' '.join(line.split())\n",
    "    return line\n",
    "\n",
    "\n",
    "def split_sen_with_label(line):\n",
    "    line = fix_for_first_ch_punc(line)\n",
    "    words, labels = [], []\n",
    "    word_list = line.split()\n",
    "    for w in word_list:\n",
    "        if w in [',', '.', '?']:\n",
    "            if w == ',':\n",
    "                lab = 'comma'\n",
    "            elif w == '.':\n",
    "                lab = 'end'\n",
    "            elif w == '?':\n",
    "                lab = 'qm'\n",
    "            # labels.pop()\n",
    "            labels.append(lab)\n",
    "        else:\n",
    "            lab = 'blank'\n",
    "            words.append(w)\n",
    "            labels.append(lab)\n",
    "\n",
    "    return words, labels\n",
    "\n",
    "\n",
    "with open(outpath, 'w', encoding='utf-8') as outfile:\n",
    "    print('sentence_index,sentence,label', file=outfile)\n",
    "\n",
    "\n",
    "def process(ix, line):\n",
    "    g = split_sen_with_label(line)\n",
    "    words, labels = next(g)\n",
    "    if len(words) == len(labels):\n",
    "        return [ix + 1, \" \".join(words), \" \".join(labels)]\n",
    "\n",
    "\n",
    "with open(outpath, 'a', encoding='utf-8') as outfile:\n",
    "    for i,line in enumerate(line_list,start = 1):\n",
    "        words, labels = split_sen_with_label(line)\n",
    "        print(f'{str(i)}, {line},{\" \".join(labels)}', file=outfile)"
   ]
  }
 ],
 "metadata": {
  "kernelspec": {
   "display_name": "Python 3",
   "language": "python",
   "name": "python3"
  },
  "language_info": {
   "codemirror_mode": {
    "name": "ipython",
    "version": 3
   },
   "file_extension": ".py",
   "mimetype": "text/x-python",
   "name": "python",
   "nbconvert_exporter": "python",
   "pygments_lexer": "ipython3",
   "version": "3.11.1"
  }
 },
 "nbformat": 4,
 "nbformat_minor": 2
}
