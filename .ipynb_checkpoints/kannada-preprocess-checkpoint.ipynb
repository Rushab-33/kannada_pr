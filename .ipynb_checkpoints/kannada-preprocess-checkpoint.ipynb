{
 "cells": [
  {
   "cell_type": "code",
   "execution_count": 1,
   "id": "initial_id",
   "metadata": {},
   "outputs": [
    {
     "name": "stdout",
     "output_type": "stream",
     "text": [
      "File 'kannada.txt' downloaded successfully!\n"
     ]
    }
   ],
   "source": [
    " import requests\n",
    " \n",
    " url = \"https://objectstore.e2enetworks.net/ai4b-public-nlu-nlg/v1-indiccorp/kn.txt\"\n",
    " def download_file(url):\n",
    "     local_filename = \"kannada.txt\"\n",
    "     with requests.get(url, stream=True) as r:\n",
    "         r.raise_for_status()\n",
    "         with open(local_filename, \"wb\") as f:\n",
    "             for chunk in r.iter_content(chunk_size=8192):\n",
    "                 if chunk:\n",
    "                     f.write(chunk)\n",
    "     return local_filename\n",
    " \n",
    " # Replace the URL below with your desired file URL\n",
    " file_url = url\n",
    " downloaded_file = download_file(file_url)\n",
    " print(f\"File '{downloaded_file}' downloaded successfully!\")\n",
    "\n"
   ]
  },
  {
   "cell_type": "code",
   "execution_count": 5,
   "id": "d65871db",
   "metadata": {},
   "outputs": [
    {
     "name": "stdout",
     "output_type": "stream",
     "text": [
      "The number of lines in 'kannada.txt' is: 3849206\n"
     ]
    }
   ],
   "source": [
    "def count_lines(file_name):\n",
    "    with open(file_name, 'r', encoding='utf-8') as file:\n",
    "        line_count = 0\n",
    "        for line in file:\n",
    "            line_count += 1\n",
    "    return line_count\n",
    "\n",
    "file_name = \"kannada.txt\"\n",
    "num_lines = count_lines(file_name)\n",
    "print(f\"The number of lines in '{file_name}' is: {num_lines}\")\n",
    "\n"
   ]
  },
  {
   "cell_type": "code",
   "execution_count": 6,
   "id": "66d7ac2993b846",
   "metadata": {},
   "outputs": [
    {
     "name": "stdout",
     "output_type": "stream",
     "text": [
      "File 'kannada_10m.txt' created successfully!\n"
     ]
    }
   ],
   "source": [
    "import requests\n",
    "\n",
    "\n",
    "#make new text file with 1 million liness from the original file\n",
    "new_file_name = \"kannada_10m.txt\"\n",
    "def make_new_file(file_name, new_file_name, num_lines):\n",
    "    with open(file_name, \"rb\") as f:\n",
    "        lines = f.readlines()\n",
    "    import os\n",
    "    if os.path.exists(new_file_name):\n",
    "        mode = \"ab\"\n",
    "    else:\n",
    "        mode = \"wb\"\n",
    "    with open(new_file_name, mode) as f:\n",
    "        for i in range(num_lines):\n",
    "            f.write(lines[i])\n",
    "    print(f\"File '{new_file_name}' created successfully!\")\n",
    "\n",
    "make_new_file(\"kannada.txt\", new_file_name, 3_000_000)\n"
   ]
  },
  {
   "cell_type": "code",
   "execution_count": 10,
   "id": "34b26f974268e3bb",
   "metadata": {},
   "outputs": [
    {
     "ename": "PermissionError",
     "evalue": "[Errno 13] Permission denied: 'kannada_1m_clean1.txt'",
     "output_type": "error",
     "traceback": [
      "\u001b[1;31m---------------------------------------------------------------------------\u001b[0m",
      "\u001b[1;31mPermissionError\u001b[0m                           Traceback (most recent call last)",
      "Cell \u001b[1;32mIn[10], line 71\u001b[0m\n\u001b[0;32m     68\u001b[0m min_line_size \u001b[38;5;241m=\u001b[39m \u001b[38;5;241m40\u001b[39m\n\u001b[0;32m     69\u001b[0m count \u001b[38;5;241m=\u001b[39m \u001b[38;5;241m0\u001b[39m\n\u001b[0;32m     70\u001b[0m \u001b[38;5;28;01mwith\u001b[39;00m \u001b[38;5;28mopen\u001b[39m(input_file, \u001b[38;5;124m'\u001b[39m\u001b[38;5;124mr\u001b[39m\u001b[38;5;124m'\u001b[39m, encoding\u001b[38;5;241m=\u001b[39m\u001b[38;5;124m'\u001b[39m\u001b[38;5;124mutf-8\u001b[39m\u001b[38;5;124m'\u001b[39m) \u001b[38;5;28;01mas\u001b[39;00m file, \\\n\u001b[1;32m---> 71\u001b[0m         \u001b[38;5;28mopen\u001b[39m(output_file, mode\u001b[38;5;241m=\u001b[39m\u001b[38;5;124m'\u001b[39m\u001b[38;5;124ma\u001b[39m\u001b[38;5;124m'\u001b[39m, encoding\u001b[38;5;241m=\u001b[39m\u001b[38;5;124m'\u001b[39m\u001b[38;5;124mutf-8\u001b[39m\u001b[38;5;124m'\u001b[39m) \u001b[38;5;28;01mas\u001b[39;00m output:\n\u001b[0;32m     72\u001b[0m     \u001b[38;5;28;01mfor\u001b[39;00m line_num, line \u001b[38;5;129;01min\u001b[39;00m \u001b[38;5;28menumerate\u001b[39m(file, start\u001b[38;5;241m=\u001b[39m\u001b[38;5;241m1\u001b[39m):\n\u001b[0;32m     73\u001b[0m         line \u001b[38;5;241m=\u001b[39m has_english(line)\n",
      "File \u001b[1;32mD:\\programs\\Lib\\site-packages\\IPython\\core\\interactiveshell.py:286\u001b[0m, in \u001b[0;36m_modified_open\u001b[1;34m(file, *args, **kwargs)\u001b[0m\n\u001b[0;32m    279\u001b[0m \u001b[38;5;28;01mif\u001b[39;00m file \u001b[38;5;129;01min\u001b[39;00m {\u001b[38;5;241m0\u001b[39m, \u001b[38;5;241m1\u001b[39m, \u001b[38;5;241m2\u001b[39m}:\n\u001b[0;32m    280\u001b[0m     \u001b[38;5;28;01mraise\u001b[39;00m \u001b[38;5;167;01mValueError\u001b[39;00m(\n\u001b[0;32m    281\u001b[0m         \u001b[38;5;124mf\u001b[39m\u001b[38;5;124m\"\u001b[39m\u001b[38;5;124mIPython won\u001b[39m\u001b[38;5;124m'\u001b[39m\u001b[38;5;124mt let you open fd=\u001b[39m\u001b[38;5;132;01m{\u001b[39;00mfile\u001b[38;5;132;01m}\u001b[39;00m\u001b[38;5;124m by default \u001b[39m\u001b[38;5;124m\"\u001b[39m\n\u001b[0;32m    282\u001b[0m         \u001b[38;5;124m\"\u001b[39m\u001b[38;5;124mas it is likely to crash IPython. If you know what you are doing, \u001b[39m\u001b[38;5;124m\"\u001b[39m\n\u001b[0;32m    283\u001b[0m         \u001b[38;5;124m\"\u001b[39m\u001b[38;5;124myou can use builtins\u001b[39m\u001b[38;5;124m'\u001b[39m\u001b[38;5;124m open.\u001b[39m\u001b[38;5;124m\"\u001b[39m\n\u001b[0;32m    284\u001b[0m     )\n\u001b[1;32m--> 286\u001b[0m \u001b[38;5;28;01mreturn\u001b[39;00m io_open(file, \u001b[38;5;241m*\u001b[39margs, \u001b[38;5;241m*\u001b[39m\u001b[38;5;241m*\u001b[39mkwargs)\n",
      "\u001b[1;31mPermissionError\u001b[0m: [Errno 13] Permission denied: 'kannada_1m_clean1.txt'"
     ]
    }
   ],
   "source": [
    "import re\n",
    "import os\n",
    "\n",
    "file_path = \"kannada_1m_clean1.txt\"\n",
    "if not os.path.exists(file_path):\n",
    "    open(file_path, \"x\")\n",
    "else:\n",
    "    os.remove(file_path)\n",
    "    os.mkdir(file_path)\n",
    "    mode = \"a\"\n",
    "\n",
    "def has_english(text):\n",
    "    # Regular expression to match English characters\n",
    "    pattern = re.compile(r'[a-zA-Z]')\n",
    "    return  re.sub(pattern, '', text)\n",
    "\n",
    "def has_numbers(text):\n",
    "    # Regular expression to match numbers\n",
    "    pattern = re.compile(r'[0-9]')\n",
    "    return  re.sub(pattern, '', text)\n",
    "\n",
    "def remove_text_inside_parentheses(text):\n",
    "    # Regular expression to match text inside parentheses\n",
    "    pattern = re.compile(r'\\([^)]*\\)')\n",
    "    return  re.sub(pattern, '', text)\n",
    "\n",
    "def special_characters(text):\n",
    "    # Regular expression to match special characters excluding periods\n",
    "    pattern = re.compile(r'[\\[/(){}\\]()|@#$%^&*_\\-=+`~;:\\'\\\"\"\\'<>]')\n",
    "    return re.sub(pattern, '', text)\n",
    "\n",
    "# def remove_spaces(text):\n",
    "#     # Regular expression to match consecutive spaces excluding newline\n",
    "#     pattern = re.compile(r'(?<!\\n)[^\\S\\n]+(?!\\n)')\n",
    "#     return  re.sub(pattern, ' ', text)\n",
    "# \n",
    "def remove_unicode_chars(text):\n",
    "    # Regular expression to match U+200B, U+200C, U+00AD, U+00A0\n",
    "    pattern = re.compile(r'[\\u200B\\u200C\\u00AD\\u00A0]')\n",
    "    return re.sub(pattern, '', text)\n",
    "def remove_space_before_punctuation(text):\n",
    "    # Regular expression to match space before punctuation\n",
    "    pattern = re.compile(r'\\s+([.,!?-])')\n",
    "    return  re.sub(pattern, r'\\1', text)\n",
    "def remove_spaces_in_beginning(text):\n",
    "    # Regular expression to match extra spaces\n",
    "    pattern = re.compile(r'^\\s+')\n",
    "    return  re.sub(pattern, '', text)\n",
    "def remove_continuous_dot(text):\n",
    "    # Regular expression to match continuous dots\n",
    "    pattern = re.compile(r'\\.{2,}')\n",
    "    return  re.sub(pattern, '.', text)\n",
    "def remove_continuous_comma(text):\n",
    "    # Regular expression to match continuous commas\n",
    "    pattern = re.compile(r',{2,}')\n",
    "    return  re.sub(pattern, ',', text)\n",
    "def remove_continuous_exclamation(text):\n",
    "    # Regular expression to match continuous exclamation marks\n",
    "    pattern = re.compile(r'!{2,}')\n",
    "    return  re.sub(pattern, '!', text)\n",
    "def remove_continuous_question(text):\n",
    "    # Regular expression to match continuous question marks\n",
    "    pattern = re.compile(r'\\?{2,}')\n",
    "    return  re.sub(pattern, '?', text)\n",
    "\n",
    "input_file = 'kannada_10m.txt'\n",
    "output_file =  file_path\n",
    "min_line_size = 40\n",
    "count = 0\n",
    "with open(input_file, 'r', encoding='utf-8') as file, \\\n",
    "        open(output_file, mode='a', encoding='utf-8') as output:\n",
    "    for line_num, line in enumerate(file, start=1):\n",
    "        line = has_english(line)\n",
    "        line = has_numbers(line)\n",
    "        line = remove_text_inside_parentheses(line)\n",
    "        line = remove_spaces(line)\n",
    "        line = special_characters(line)\n",
    "        line = remove_spaces_in_beginning(line)\n",
    "        line = remove_unicode_chars(line)\n",
    "        line = remove_space_before_punctuation(line)\n",
    "        line = remove_continuous_dot(line)\n",
    "        line = remove_continuous_comma(line)\n",
    "        line = remove_continuous_exclamation(line)\n",
    "        line = remove_continuous_question(line)\n",
    "        \n",
    "        if len(line) < min_line_size:\n",
    "            count +=1\n",
    "            continue\n",
    "        \n",
    "        output.write(line)\n",
    "\n",
    "print(f\"File '{output_file}' created successfully!\")\n",
    "print(f\"Number of lines removed: {count}\")\n",
    "\n"
   ]
  },
  {
   "cell_type": "code",
   "execution_count": 27,
   "id": "c8d53b10",
   "metadata": {},
   "outputs": [
    {
     "name": "stdout",
     "output_type": "stream",
     "text": [
      "File 'kannada_1m_clean1.txt' created successfully!\n",
      "Number of lines removed: 0\n"
     ]
    }
   ],
   "source": [
    "import re\n",
    "import os\n",
    "\n",
    "file_path = \"kannada_1m_clean1.txt\"\n",
    "#if os.path.exists(file_path):\n",
    "#    os.remove(file_path)\n",
    "\n",
    "def has_english(text):\n",
    "    pattern = re.compile(r'[a-zA-Z]')\n",
    "    return re.sub(pattern, '', text)\n",
    "\n",
    "def has_numbers(text):\n",
    "    pattern = re.compile(r'[0-9]')\n",
    "    return re.sub(pattern, '', text)\n",
    "\n",
    "def remove_text_inside_parentheses(text):\n",
    "    pattern = re.compile(r'\\([^)]*\\)')\n",
    "    return re.sub(pattern, '', text)\n",
    "\n",
    "def special_characters(text):\n",
    "    pattern = re.compile(r'[\\[/(){}\\]()|@#$%^&*_\\-=+`~;:\\'\\\"\"\\'<>]')\n",
    "    return re.sub(pattern, '', text)\n",
    "\n",
    "def remove_unicode_chars(text):\n",
    "    pattern = re.compile(r'[\\u200B\\u200C\\u00AD\\u00A0]')\n",
    "    return re.sub(pattern, '', text)\n",
    "\n",
    "def remove_space_before_punctuation(text):\n",
    "    pattern = re.compile(r'\\s+([.,!?-])')\n",
    "    return re.sub(pattern, r'\\1', text)\n",
    "\n",
    "def remove_spaces_in_beginning(text):\n",
    "    pattern = re.compile(r'^\\s+')\n",
    "    return re.sub(pattern, '', text)\n",
    "\n",
    "def remove_continuous_dot(text):\n",
    "    pattern = re.compile(r'\\.{2,}')\n",
    "    return re.sub(pattern, '.', text)\n",
    "\n",
    "def remove_continuous_comma(text):\n",
    "    pattern = re.compile(r',{2,}')\n",
    "    return re.sub(pattern, ',', text)\n",
    "\n",
    "def remove_continuous_exclamation(text):\n",
    "    pattern = re.compile(r'!{2,}')\n",
    "    return re.sub(pattern, '!', text)\n",
    "\n",
    "def remove_continuous_question(text):\n",
    "    pattern = re.compile(r'\\?{2,}')\n",
    "    return re.sub(pattern, '?', text)\n",
    "\n",
    "input_file = 'kannada_10m.txt'\n",
    "min_line_size = 40\n",
    "count = 0\n",
    "\n",
    "# with open(input_file, 'r', encoding='utf-8') as file, \\\n",
    "#         open(file_path, 'w', encoding='utf-8') as output:\n",
    "#    # for line_num, line in enumerate(file, start=1):\n",
    "#         with open(input_file, 'r', encoding='utf-8', errors='ignore') as file:\n",
    "#      for line_num, line in enumerate(file, start=1):\n",
    "#         # Process each line\n",
    "\n",
    "with open(input_file, 'r', encoding='utf-8') as file, \\\n",
    "     open(file_path, 'w', encoding='utf-8') as output:\n",
    "    # for line_num, line in enumerate(file, start=1):\n",
    "    with open(input_file, 'r', encoding='utf-8', errors='ignore') as file:\n",
    "        for line_num, line in enumerate(file, start=1):\n",
    "            # Process each line\n",
    "\n",
    "         line = has_english(line)\n",
    "         line = has_numbers(line)\n",
    "         line = remove_text_inside_parentheses(line)\n",
    "        #line = remove_spaces(line) # Uncomment if needed\n",
    "         line = special_characters(line)\n",
    "         line = remove_spaces_in_beginning(line)\n",
    "         line = remove_unicode_chars(line)\n",
    "         line = remove_space_before_punctuation(line)\n",
    "         line = remove_continuous_dot(line)\n",
    "         line = remove_continuous_comma(line)\n",
    "         line = remove_continuous_exclamation(line)\n",
    "         line = remove_continuous_question(line)\n",
    "        \n",
    "        if len(line) >= min_line_size:\n",
    "            output.write(line)\n",
    "        else:\n",
    "            count += 1\n",
    "\n",
    "print(f\"File '{file_path}' created successfully!\")\n",
    "print(f\"Number of lines removed: {count}\")\n"
   ]
  },
  {
   "cell_type": "code",
   "execution_count": 12,
   "id": "90c0c55a",
   "metadata": {},
   "outputs": [
    {
     "name": "stdout",
     "output_type": "stream",
     "text": [
      "Input File Path: C:\\Users\\rusha\\Downloads\\kannada_1m.txt\n",
      "Output File Path: C:\\Users\\rusha\\Downloads\\kannada_1m_clean1.txt\n"
     ]
    }
   ],
   "source": [
    "input_file = 'kannada_1m.txt'\n",
    "output_file = 'kannada_1m_clean1.txt'\n",
    "print(\"Input File Path:\", os.path.abspath(input_file))\n",
    "print(\"Output File Path:\", os.path.abspath(output_file))\n"
   ]
  },
  {
   "cell_type": "code",
   "execution_count": 13,
   "id": "bcb6fb4a",
   "metadata": {},
   "outputs": [
    {
     "name": "stdout",
     "output_type": "stream",
     "text": [
      "Permissions of Output File: 777\n"
     ]
    }
   ],
   "source": [
    "# Check permissions of a file\n",
    "print(\"Permissions of Output File:\", oct(os.stat(output_file).st_mode)[-3:])\n"
   ]
  }
 ],
 "metadata": {
  "kernelspec": {
   "display_name": "Python 3 (ipykernel)",
   "language": "python",
   "name": "python3"
  },
  "language_info": {
   "codemirror_mode": {
    "name": "ipython",
    "version": 3
   },
   "file_extension": ".py",
   "mimetype": "text/x-python",
   "name": "python",
   "nbconvert_exporter": "python",
   "pygments_lexer": "ipython3",
   "version": "3.11.5"
  }
 },
 "nbformat": 4,
 "nbformat_minor": 5
}
